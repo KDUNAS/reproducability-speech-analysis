{
 "cells": [
  {
   "cell_type": "markdown",
   "metadata": {},
   "source": [
    "# Lab 7. Digital Image Processing and Convolution"
   ]
  },
  {
   "cell_type": "markdown",
   "metadata": {},
   "source": [
    "\n",
    " # These codes are to detect edge of a camaro car in a rgb picture by convolution.\n",
    " # The rgb picture experiences the following process:\n",
    " \t 1 rgb -> grey -> binary -> show edge\n",
    " \t 2 rgb -> grey -> convolution -> invert -> show edge\n",
    " # You can find different visual effects of two methods."
   ]
  },
  {
   "cell_type": "code",
   "execution_count": 1,
   "metadata": {},
   "outputs": [],
   "source": [
    "# coding:utf-8"
   ]
  },
  {
   "cell_type": "code",
   "execution_count": 2,
   "metadata": {},
   "outputs": [],
   "source": [
    "# import libraries"
   ]
  },
  {
   "cell_type": "code",
   "execution_count": 3,
   "metadata": {},
   "outputs": [],
   "source": [
    "from PIL import Image\n",
    "import numpy as np\n",
    "import os\n",
    "from skimage import io"
   ]
  },
  {
   "cell_type": "code",
   "execution_count": 4,
   "metadata": {},
   "outputs": [],
   "source": [
    "# load a rgb picture and show it"
   ]
  },
  {
   "cell_type": "code",
   "execution_count": 5,
   "metadata": {},
   "outputs": [],
   "source": [
    "im_rgb = Image.open('./Camaro.jpg')\n",
    "im_rgb.show()\n",
    "im_rgb_array = np.array(im_rgb)"
   ]
  },
  {
   "cell_type": "code",
   "execution_count": 6,
   "metadata": {},
   "outputs": [],
   "source": [
    "# show some details of the rgb picture"
   ]
  },
  {
   "cell_type": "code",
   "execution_count": 7,
   "metadata": {},
   "outputs": [
    {
     "name": "stdout",
     "output_type": "stream",
     "text": [
      "[[[114 105 110]\n",
      "  [114 104 112]\n",
      "  [113 103 111]\n",
      "  ...\n",
      "  [ 81  77  68]\n",
      "  [ 86  82  73]\n",
      "  [ 93  89  80]]\n",
      "\n",
      " [[116 107 112]\n",
      "  [116 106 114]\n",
      "  [114 104 112]\n",
      "  ...\n",
      "  [ 85  81  72]\n",
      "  [ 88  84  75]\n",
      "  [ 88  84  75]]\n",
      "\n",
      " [[114 105 110]\n",
      "  [115 105 113]\n",
      "  [113 103 111]\n",
      "  ...\n",
      "  [ 90  86  77]\n",
      "  [ 94  90  81]\n",
      "  [ 92  88  79]]\n",
      "\n",
      " ...\n",
      "\n",
      " [[ 75  75  75]\n",
      "  [ 71  71  71]\n",
      "  [ 77  75  76]\n",
      "  ...\n",
      "  [119 110 111]\n",
      "  [118 110 108]\n",
      "  [120 112 110]]\n",
      "\n",
      " [[ 79  79  79]\n",
      "  [ 76  76  76]\n",
      "  [ 77  77  77]\n",
      "  ...\n",
      "  [117 108 109]\n",
      "  [117 108 109]\n",
      "  [121 112 113]]\n",
      "\n",
      " [[ 76  76  76]\n",
      "  [ 80  80  80]\n",
      "  [ 78  78  78]\n",
      "  ...\n",
      "  [117 108 109]\n",
      "  [116 107 108]\n",
      "  [123 114 115]]]\n",
      "[114 105 110]\n",
      "1944\n",
      "2592\n",
      "3\n"
     ]
    }
   ],
   "source": [
    "print (im_rgb_array)\n",
    "print (im_rgb_array[0][0])\n",
    "print (len(im_rgb_array))\n",
    "print (len(im_rgb_array[0]))\n",
    "print (len(im_rgb_array[0][0]))"
   ]
  },
  {
   "cell_type": "code",
   "execution_count": 8,
   "metadata": {},
   "outputs": [],
   "source": [
    "# covert to grey level picture"
   ]
  },
  {
   "cell_type": "code",
   "execution_count": 9,
   "metadata": {},
   "outputs": [],
   "source": [
    "im_grey = Image.open('./Camaro.jpg')\n",
    "im_grey = im_grey.convert('L')\n",
    "try:\n",
    " \t  im_grey.save(\"Camaro_Grey.jpg\")\n",
    "except IOError:\n",
    " \t  print (\"Cannot convert\")\n",
    "im_grey.show()\n",
    "im_grey_array = np.array(im_grey)"
   ]
  },
  {
   "cell_type": "code",
   "execution_count": 10,
   "metadata": {},
   "outputs": [],
   "source": [
    "# setup a converting table with constant threshold"
   ]
  },
  {
   "cell_type": "code",
   "execution_count": 11,
   "metadata": {},
   "outputs": [],
   "source": [
    "threshold = 45\n",
    "table = []\n",
    "for i in range( 256 ):\n",
    "     if i < threshold:\n",
    "        table.append(0)\n",
    "     else :\n",
    "        table.append(1)"
   ]
  },
  {
   "cell_type": "code",
   "execution_count": 12,
   "metadata": {},
   "outputs": [],
   "source": [
    "# convert to binary picture by the table "
   ]
  },
  {
   "cell_type": "code",
   "execution_count": 13,
   "metadata": {},
   "outputs": [],
   "source": [
    "im_binary = im_grey.point(table,\"1\")\n",
    "im_binary.save( \"Camaro_Binary.jpg\" ) \n",
    "im_binary.show()\n",
    "im_binary_array = np.array(im_binary)"
   ]
  },
  {
   "cell_type": "code",
   "execution_count": 14,
   "metadata": {},
   "outputs": [],
   "source": [
    "# convolution kernel array\n",
    "# This array is named Laplace operator.\n",
    "# It is used to detect the edge."
   ]
  },
  {
   "cell_type": "code",
   "execution_count": 15,
   "metadata": {},
   "outputs": [],
   "source": [
    "conv_input = np.array([[ 1,  1,  1],       \n",
    "                       [ 1, -8,  1],\n",
    "                       [ 1,  1,  1]])"
   ]
  },
  {
   "cell_type": "code",
   "execution_count": 16,
   "metadata": {},
   "outputs": [],
   "source": [
    "# convolution defined function\n",
    "# import image array and convolution kernel array"
   ]
  },
  {
   "cell_type": "code",
   "execution_count": 17,
   "metadata": {},
   "outputs": [],
   "source": [
    "def conv (im_array, conv_x):   \n",
    "\tim_copy = im_array.copy() \n",
    "\theight, width = im_copy.shape\n",
    "\tfor i in range(0, height-2):   \n",
    "\t\tfor j in range(0, width-2):\n",
    "\t\t\ttmp = (im_array[(i):(i+3),(j):(j+3)]*conv_x).sum()\n",
    "\t\t\tif tmp > 255:\n",
    "\t\t\t\ttmp = 255\n",
    "\t\t\telif tmp < 0:\n",
    "\t\t\t\ttmp = 0\n",
    "\t\t\tim_copy[i][j] = tmp\n",
    "\treturn im_copy "
   ]
  },
  {
   "cell_type": "code",
   "execution_count": 18,
   "metadata": {},
   "outputs": [],
   "source": [
    "# import grey image array to function\n",
    "# output edge detection of grey image. "
   ]
  },
  {
   "cell_type": "code",
   "execution_count": 19,
   "metadata": {},
   "outputs": [],
   "source": [
    "im_conv = conv(im_grey_array, conv_input)"
   ]
  },
  {
   "cell_type": "code",
   "execution_count": 20,
   "metadata": {},
   "outputs": [],
   "source": [
    "# show result"
   ]
  },
  {
   "cell_type": "code",
   "execution_count": 21,
   "metadata": {},
   "outputs": [],
   "source": [
    "new_im = Image.fromarray(im_conv)\n",
    "new_im.show()\n",
    "new_im.save(\"Camaro_Conv.jpg\")"
   ]
  },
  {
   "cell_type": "code",
   "execution_count": 22,
   "metadata": {},
   "outputs": [],
   "source": [
    "# To make the result more obvious, deal with it further"
   ]
  },
  {
   "cell_type": "code",
   "execution_count": 23,
   "metadata": {},
   "outputs": [],
   "source": [
    "new_im_arrray = np.array(new_im)"
   ]
  },
  {
   "cell_type": "code",
   "execution_count": 24,
   "metadata": {},
   "outputs": [],
   "source": [
    "# invert defined function"
   ]
  },
  {
   "cell_type": "code",
   "execution_count": 25,
   "metadata": {},
   "outputs": [],
   "source": [
    "def invert (im_array):\n",
    "\tim_copy = im_array.copy() \n",
    "\theight, width = im_copy.shape\n",
    "\tfor i in range(0, height-2):   \n",
    "\t\tfor j in range(0, width-2):\n",
    "\t\t\tif im_copy[i][j] > 100:\n",
    "\t\t\t\tim_copy[i][j] = 0\n",
    "\t\t\telse:\n",
    "\t\t\t\tim_copy[i][j] = 255\n",
    "\treturn im_copy"
   ]
  },
  {
   "cell_type": "code",
   "execution_count": 26,
   "metadata": {},
   "outputs": [],
   "source": [
    "# import output image after convolution to make it obvious"
   ]
  },
  {
   "cell_type": "code",
   "execution_count": 27,
   "metadata": {},
   "outputs": [],
   "source": [
    "im_invert = invert(new_im_arrray)\n",
    "new_im_invert = Image.fromarray(im_invert)"
   ]
  },
  {
   "cell_type": "code",
   "execution_count": 28,
   "metadata": {},
   "outputs": [],
   "source": [
    "# show result again"
   ]
  },
  {
   "cell_type": "code",
   "execution_count": 29,
   "metadata": {},
   "outputs": [],
   "source": [
    "new_im_invert.show()\n",
    "new_im_invert.save(\"Camaro_Conv_Invert.jpg\")"
   ]
  }
 ],
 "metadata": {
  "kernelspec": {
   "display_name": "Python 3",
   "language": "python",
   "name": "python3"
  },
  "language_info": {
   "codemirror_mode": {
    "name": "ipython",
    "version": 3
   },
   "file_extension": ".py",
   "mimetype": "text/x-python",
   "name": "python",
   "nbconvert_exporter": "python",
   "pygments_lexer": "ipython3",
   "version": "3.6.2"
  }
 },
 "nbformat": 4,
 "nbformat_minor": 2
}
