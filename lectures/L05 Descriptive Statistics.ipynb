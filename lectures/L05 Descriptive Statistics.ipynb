{
 "cells": [
  {
   "cell_type": "markdown",
   "metadata": {},
   "source": [
    "# Outline\n",
    "\n",
    "- Data Science methodology and workflow\n",
    "- Thinking about projects\n",
    "- Descriptive statistics\n",
    "- Privacy\n",
    "- Outliers"
   ]
  },
  {
   "cell_type": "markdown",
   "metadata": {},
   "source": [
    "## Reading XML Data\n",
    "\n",
    "XML is a widely used file format for data on the web (well, it has been in the past).   \n",
    "It is actually a document markup language like HTML, so it can represent quite complex structures. \n",
    "However it is often used to store simple tabular data as well.\n",
    "\n",
    "Here's a [sample XML file](files/sample.xml).\n",
    "\n",
    "We can use the Python [xml ElementTree module](https://docs.python.org/3.6/library/xml.etree.elementtree.html)\n",
    "to parse XML data into a Python data structure.  In the case of this \n",
    "sample file, it consists of many &lt;record> elements each with four data points. We want to parse into \n",
    "a dataframe with four columns. \n"
   ]
  },
  {
   "cell_type": "code",
   "execution_count": 71,
   "metadata": {},
   "outputs": [
    {
     "data": {
      "text/html": [
       "<div>\n",
       "<table border=\"1\" class=\"dataframe\">\n",
       "  <thead>\n",
       "    <tr style=\"text-align: right;\">\n",
       "      <th></th>\n",
       "      <th>Amount</th>\n",
       "      <th>City</th>\n",
       "      <th>Date</th>\n",
       "      <th>Name</th>\n",
       "    </tr>\n",
       "  </thead>\n",
       "  <tbody>\n",
       "    <tr>\n",
       "      <th>0</th>\n",
       "      <td>105.06</td>\n",
       "      <td>Sijsele</td>\n",
       "      <td>2018-04-14T08:51:54-07:00</td>\n",
       "      <td>Hedy</td>\n",
       "    </tr>\n",
       "    <tr>\n",
       "      <th>1</th>\n",
       "      <td>103.76</td>\n",
       "      <td>Panquehue</td>\n",
       "      <td>2018-07-07T06:54:04-07:00</td>\n",
       "      <td>Indigo</td>\n",
       "    </tr>\n",
       "    <tr>\n",
       "      <th>2</th>\n",
       "      <td>110.29</td>\n",
       "      <td>Dijon</td>\n",
       "      <td>2017-04-27T10:06:16-07:00</td>\n",
       "      <td>Jolene</td>\n",
       "    </tr>\n",
       "    <tr>\n",
       "      <th>3</th>\n",
       "      <td>94.8</td>\n",
       "      <td>Neuss</td>\n",
       "      <td>2017-11-11T07:26:54-08:00</td>\n",
       "      <td>Bradley</td>\n",
       "    </tr>\n",
       "    <tr>\n",
       "      <th>4</th>\n",
       "      <td>96.83</td>\n",
       "      <td>Helena</td>\n",
       "      <td>2017-05-09T05:26:05-07:00</td>\n",
       "      <td>Clementine</td>\n",
       "    </tr>\n",
       "  </tbody>\n",
       "</table>\n",
       "</div>"
      ],
      "text/plain": [
       "   Amount       City                       Date        Name\n",
       "0  105.06    Sijsele  2018-04-14T08:51:54-07:00        Hedy\n",
       "1  103.76  Panquehue  2018-07-07T06:54:04-07:00      Indigo\n",
       "2  110.29      Dijon  2017-04-27T10:06:16-07:00      Jolene\n",
       "3    94.8      Neuss  2017-11-11T07:26:54-08:00     Bradley\n",
       "4   96.83     Helena  2017-05-09T05:26:05-07:00  Clementine"
      ]
     },
     "execution_count": 71,
     "metadata": {},
     "output_type": "execute_result"
    }
   ],
   "source": [
    "import pandas as pd\n",
    "import xml.etree.ElementTree as ET\n",
    "tree = ET.parse('files/sample.xml')\n",
    "root = tree.getroot()\n",
    "data = []\n",
    "for row in root:\n",
    "    # create a dictionary for each row\n",
    "    datarow = {}\n",
    "    for child in row:\n",
    "        # dictionary key is the tag name, value is the text in the tag\n",
    "        datarow[child.tag] = child.text\n",
    "    data.append(datarow)\n",
    "    \n",
    "# now make a dataframe from this list of dictionaries\n",
    "df = pd.DataFrame(data)\n",
    "df.head()"
   ]
  },
  {
   "cell_type": "markdown",
   "metadata": {},
   "source": [
    "So there's the data read into a dataframe.  We might note that the Date field looks like a date so should\n",
    "be treated as such rather than a string. "
   ]
  },
  {
   "cell_type": "code",
   "execution_count": 73,
   "metadata": {},
   "outputs": [
    {
     "data": {
      "text/html": [
       "<div>\n",
       "<table border=\"1\" class=\"dataframe\">\n",
       "  <thead>\n",
       "    <tr style=\"text-align: right;\">\n",
       "      <th></th>\n",
       "      <th>Amount</th>\n",
       "      <th>City</th>\n",
       "      <th>Name</th>\n",
       "    </tr>\n",
       "    <tr>\n",
       "      <th>Date</th>\n",
       "      <th></th>\n",
       "      <th></th>\n",
       "      <th></th>\n",
       "    </tr>\n",
       "  </thead>\n",
       "  <tbody>\n",
       "    <tr>\n",
       "      <th>2016-08-24 08:35:12</th>\n",
       "      <td>97.98</td>\n",
       "      <td>Neumünster</td>\n",
       "      <td>Tanya</td>\n",
       "    </tr>\n",
       "    <tr>\n",
       "      <th>2016-08-27 03:56:02</th>\n",
       "      <td>99.04</td>\n",
       "      <td>Rovereto</td>\n",
       "      <td>Molly</td>\n",
       "    </tr>\n",
       "    <tr>\n",
       "      <th>2016-09-06 08:58:15</th>\n",
       "      <td>99.27</td>\n",
       "      <td>Rovereto</td>\n",
       "      <td>Aiko</td>\n",
       "    </tr>\n",
       "    <tr>\n",
       "      <th>2016-09-10 21:10:12</th>\n",
       "      <td>96.53</td>\n",
       "      <td>Westkerke</td>\n",
       "      <td>Dante</td>\n",
       "    </tr>\n",
       "    <tr>\n",
       "      <th>2016-09-12 22:32:09</th>\n",
       "      <td>107.23</td>\n",
       "      <td>Pointe-aux-Trembles</td>\n",
       "      <td>Sydney</td>\n",
       "    </tr>\n",
       "  </tbody>\n",
       "</table>\n",
       "</div>"
      ],
      "text/plain": [
       "                     Amount                 City    Name\n",
       "Date                                                    \n",
       "2016-08-24 08:35:12   97.98           Neumünster   Tanya\n",
       "2016-08-27 03:56:02   99.04             Rovereto   Molly\n",
       "2016-09-06 08:58:15   99.27             Rovereto    Aiko\n",
       "2016-09-10 21:10:12   96.53            Westkerke   Dante\n",
       "2016-09-12 22:32:09  107.23  Pointe-aux-Trembles  Sydney"
      ]
     },
     "execution_count": 73,
     "metadata": {},
     "output_type": "execute_result"
    }
   ],
   "source": [
    "df = pd.DataFrame(data)\n",
    "# sort on date\n",
    "df = df.sort_values('Date')\n",
    "# create a series from the dates as datetimes\n",
    "dates = pd.to_datetime(df.Date)\n",
    "# make this the index of the dataframe\n",
    "df.index = dates\n",
    "# remove the Date column (axis=1 means we're dropping a column, not rows)\n",
    "df.drop('Date', axis=1, inplace=True)\n",
    "df.head()"
   ]
  },
  {
   "cell_type": "code",
   "execution_count": 77,
   "metadata": {},
   "outputs": [
    {
     "data": {
      "text/html": [
       "<div>\n",
       "<table border=\"1\" class=\"dataframe\">\n",
       "  <thead>\n",
       "    <tr style=\"text-align: right;\">\n",
       "      <th></th>\n",
       "      <th>Amount</th>\n",
       "      <th>City</th>\n",
       "      <th>Name</th>\n",
       "    </tr>\n",
       "    <tr>\n",
       "      <th>Date</th>\n",
       "      <th></th>\n",
       "      <th></th>\n",
       "      <th></th>\n",
       "    </tr>\n",
       "  </thead>\n",
       "  <tbody>\n",
       "    <tr>\n",
       "      <th>2016-08-24 08:35:12</th>\n",
       "      <td>97.98</td>\n",
       "      <td>Neumünster</td>\n",
       "      <td>Tanya</td>\n",
       "    </tr>\n",
       "    <tr>\n",
       "      <th>2016-08-27 03:56:02</th>\n",
       "      <td>99.04</td>\n",
       "      <td>Rovereto</td>\n",
       "      <td>Molly</td>\n",
       "    </tr>\n",
       "    <tr>\n",
       "      <th>2016-09-06 08:58:15</th>\n",
       "      <td>99.27</td>\n",
       "      <td>Rovereto</td>\n",
       "      <td>Aiko</td>\n",
       "    </tr>\n",
       "    <tr>\n",
       "      <th>2016-09-10 21:10:12</th>\n",
       "      <td>96.53</td>\n",
       "      <td>Westkerke</td>\n",
       "      <td>Dante</td>\n",
       "    </tr>\n",
       "    <tr>\n",
       "      <th>2016-09-12 22:32:09</th>\n",
       "      <td>107.23</td>\n",
       "      <td>Pointe-aux-Trembles</td>\n",
       "      <td>Sydney</td>\n",
       "    </tr>\n",
       "    <tr>\n",
       "      <th>2016-09-13 10:51:59</th>\n",
       "      <td>99.06</td>\n",
       "      <td>Bromley</td>\n",
       "      <td>Yasir</td>\n",
       "    </tr>\n",
       "    <tr>\n",
       "      <th>2016-09-17 13:10:04</th>\n",
       "      <td>100.44</td>\n",
       "      <td>Illapel</td>\n",
       "      <td>Grady</td>\n",
       "    </tr>\n",
       "    <tr>\n",
       "      <th>2016-09-17 19:05:52</th>\n",
       "      <td>90.59</td>\n",
       "      <td>Regensburg</td>\n",
       "      <td>Bernard</td>\n",
       "    </tr>\n",
       "    <tr>\n",
       "      <th>2016-09-20 03:31:41</th>\n",
       "      <td>103.11</td>\n",
       "      <td>Zaanstad</td>\n",
       "      <td>Jakeem</td>\n",
       "    </tr>\n",
       "    <tr>\n",
       "      <th>2016-09-26 11:25:05</th>\n",
       "      <td>102.78</td>\n",
       "      <td>Los Andes</td>\n",
       "      <td>Kai</td>\n",
       "    </tr>\n",
       "    <tr>\n",
       "      <th>2016-09-29 09:40:11</th>\n",
       "      <td>89.98</td>\n",
       "      <td>Cáceres</td>\n",
       "      <td>Grant</td>\n",
       "    </tr>\n",
       "    <tr>\n",
       "      <th>2016-09-29 22:55:39</th>\n",
       "      <td>92.54</td>\n",
       "      <td>Visso</td>\n",
       "      <td>Madeline</td>\n",
       "    </tr>\n",
       "    <tr>\n",
       "      <th>2016-10-04 03:01:18</th>\n",
       "      <td>97.83</td>\n",
       "      <td>Romano d'Ezzelino</td>\n",
       "      <td>Beck</td>\n",
       "    </tr>\n",
       "    <tr>\n",
       "      <th>2016-10-18 19:37:33</th>\n",
       "      <td>99.38</td>\n",
       "      <td>Malartic</td>\n",
       "      <td>Aidan</td>\n",
       "    </tr>\n",
       "    <tr>\n",
       "      <th>2016-11-01 21:46:24</th>\n",
       "      <td>90.26</td>\n",
       "      <td>Walhain-Saint-Paul</td>\n",
       "      <td>Audra</td>\n",
       "    </tr>\n",
       "    <tr>\n",
       "      <th>2016-11-05 17:49:48</th>\n",
       "      <td>88.86</td>\n",
       "      <td>Sorgà</td>\n",
       "      <td>Dahlia</td>\n",
       "    </tr>\n",
       "    <tr>\n",
       "      <th>2016-11-06 04:53:06</th>\n",
       "      <td>93.38</td>\n",
       "      <td>Saint-Malo</td>\n",
       "      <td>Elvis</td>\n",
       "    </tr>\n",
       "    <tr>\n",
       "      <th>2016-11-06 07:13:11</th>\n",
       "      <td>100.01</td>\n",
       "      <td>San Rafael Abajo</td>\n",
       "      <td>Levi</td>\n",
       "    </tr>\n",
       "    <tr>\n",
       "      <th>2016-11-07 06:41:18</th>\n",
       "      <td>91.3</td>\n",
       "      <td>Satna</td>\n",
       "      <td>Paul</td>\n",
       "    </tr>\n",
       "    <tr>\n",
       "      <th>2016-11-11 04:29:25</th>\n",
       "      <td>107.19</td>\n",
       "      <td>Sarre</td>\n",
       "      <td>Blossom</td>\n",
       "    </tr>\n",
       "    <tr>\n",
       "      <th>2016-11-26 20:30:38</th>\n",
       "      <td>109.39</td>\n",
       "      <td>Chestermere</td>\n",
       "      <td>Rose</td>\n",
       "    </tr>\n",
       "    <tr>\n",
       "      <th>2016-12-17 04:03:51</th>\n",
       "      <td>100.49</td>\n",
       "      <td>Nogales</td>\n",
       "      <td>Rachel</td>\n",
       "    </tr>\n",
       "    <tr>\n",
       "      <th>2016-12-19 17:34:18</th>\n",
       "      <td>92.69</td>\n",
       "      <td>Lichtaart</td>\n",
       "      <td>Arsenio</td>\n",
       "    </tr>\n",
       "    <tr>\n",
       "      <th>2016-12-24 07:05:25</th>\n",
       "      <td>102.85</td>\n",
       "      <td>Quillón</td>\n",
       "      <td>Trevor</td>\n",
       "    </tr>\n",
       "    <tr>\n",
       "      <th>2016-12-24 14:48:52</th>\n",
       "      <td>109.36</td>\n",
       "      <td>Deurne</td>\n",
       "      <td>Drew</td>\n",
       "    </tr>\n",
       "  </tbody>\n",
       "</table>\n",
       "</div>"
      ],
      "text/plain": [
       "                     Amount                 City      Name\n",
       "Date                                                      \n",
       "2016-08-24 08:35:12   97.98           Neumünster     Tanya\n",
       "2016-08-27 03:56:02   99.04             Rovereto     Molly\n",
       "2016-09-06 08:58:15   99.27             Rovereto      Aiko\n",
       "2016-09-10 21:10:12   96.53            Westkerke     Dante\n",
       "2016-09-12 22:32:09  107.23  Pointe-aux-Trembles    Sydney\n",
       "2016-09-13 10:51:59   99.06              Bromley     Yasir\n",
       "2016-09-17 13:10:04  100.44              Illapel     Grady\n",
       "2016-09-17 19:05:52   90.59           Regensburg   Bernard\n",
       "2016-09-20 03:31:41  103.11             Zaanstad    Jakeem\n",
       "2016-09-26 11:25:05  102.78            Los Andes       Kai\n",
       "2016-09-29 09:40:11   89.98              Cáceres     Grant\n",
       "2016-09-29 22:55:39   92.54                Visso  Madeline\n",
       "2016-10-04 03:01:18   97.83    Romano d'Ezzelino      Beck\n",
       "2016-10-18 19:37:33   99.38             Malartic     Aidan\n",
       "2016-11-01 21:46:24   90.26   Walhain-Saint-Paul     Audra\n",
       "2016-11-05 17:49:48   88.86                Sorgà    Dahlia\n",
       "2016-11-06 04:53:06   93.38           Saint-Malo     Elvis\n",
       "2016-11-06 07:13:11  100.01     San Rafael Abajo      Levi\n",
       "2016-11-07 06:41:18    91.3                Satna      Paul\n",
       "2016-11-11 04:29:25  107.19                Sarre   Blossom\n",
       "2016-11-26 20:30:38  109.39          Chestermere      Rose\n",
       "2016-12-17 04:03:51  100.49              Nogales    Rachel\n",
       "2016-12-19 17:34:18   92.69            Lichtaart   Arsenio\n",
       "2016-12-24 07:05:25  102.85              Quillón    Trevor\n",
       "2016-12-24 14:48:52  109.36               Deurne      Drew"
      ]
     },
     "execution_count": 77,
     "metadata": {},
     "output_type": "execute_result"
    }
   ],
   "source": [
    "# having a datetime index means we can easily select rows for a given year etc\n",
    "df['2016']"
   ]
  },
  {
   "cell_type": "markdown",
   "metadata": {},
   "source": [
    "## Methodology\n",
    "\n",
    "<a title=\"By Kenneth Jensen [CC BY-SA 3.0 (http://creativecommons.org/licenses/by-sa/3.0)], via Wikimedia Commons\" href=\"https://commons.wikimedia.org/wiki/File%3ACRISP-DM_Process_Diagram.png\"><img width=\"512\" alt=\"CRISP-DM Process Diagram\" src=\"https://upload.wikimedia.org/wikipedia/commons/thumb/b/b9/CRISP-DM_Process_Diagram.png/512px-CRISP-DM_Process_Diagram.png\"/></a>\n",
    "\n",
    "This diagram illustrates the CRISP-DM process diagram.  CRISP-DM is a standardised workflow \n",
    "for Data Mining/Data Science that attempts to lay out a methodology to follow in a project.\n",
    "Compare with what you've seen about the software development lifecycle. \n",
    "\n",
    "[This post by Locke Data](https://itsalocke.com/crisp-dm/) gives a concise overview of the methodology. Note also the link included in that post to the Microsoft Team Data Science Process, that site provides quite a bit more detail.\n",
    "\n",
    "The methodology highlights the fact that there are many phases to a DS project apart from what we might understand as the 'real data science' part of data preparation and modelling.  Those core parts are the main skills we're learning about in this unit, but we need to see where they fit into the bigger picture.  In many ways they might not be the hardest part of a project. \n",
    "\n",
    "- **Business Understanding** DS problems generally come out of some business need (or maybe from some scientific or humanities research goal).  So, understanding why the questions are being asked and how an answer might be used is important.\n",
    "- **Data Understanding** what data is available, what do the fields mean, what other data sources would we like to be able to access, assessing data quality\n",
    "- **Data Preparation** and **Modelling** are the core processes we're learning how to do in Python\n",
    "- **Model Evaluation** how will you know if you've succeeded? Evaluation of the model with respect to business needs - are the predictions accurate enough to help the business?\n",
    "- **Deployment** is this a one off analysis that generates a report or a model that will be used repeatedly in some kind of production environment? Does it need to be updated as new data becomes available?\n",
    "\n"
   ]
  },
  {
   "cell_type": "markdown",
   "metadata": {},
   "source": [
    "## Sample DS Projects\n",
    "\n",
    "[A Gallery of Interesting Jupyter Notebooks](https://github.com/jupyter/jupyter/wiki/A-gallery-of-interesting-Jupyter-Notebooks#social-data) contains some interesting examples including\n",
    "- [Using Python to see how the Times writes about men and women](http://nbviewer.ipython.org/gist/5105037)\n",
    "- [An exploratory statistical analysis of the 2014 World Cup Final](http://nbviewer.jupyter.org/github/rjtavares/football-crunching/blob/master/notebooks/an%20exploratory%20data%20analysis%20of%20the%20world%20cup%20final.ipynb)\n",
    "- [St. Louis County Segregation Analysis](https://github.com/BuzzFeedNews/2014-08-st-louis-county-segregation) a notebook accompanying a Buzzfeed article\n",
    "\n",
    "[FiveThirtyEight](https://fivethirtyeight.com/) is a data backed news site and they publish datasets behind each of their stories [on github](https://github.com/fivethirtyeight/data). These provide some nice examples that you could try to reproduce or extend\n",
    "\n",
    "\n",
    "### Activity\n",
    "\n",
    "Brainstorming projects: in small groups (4-5) come up with some ideas for projects that you might\n",
    "do for your major project in COMP257 this semester.  The idea of this exercise is just to get\n",
    "very high level ideas so that we can talk about how reasonable/feasible they are. \n",
    "\n",
    "Your suggested project should involve:\n",
    " - more than one dataset that you've found from a 'real world' source\n",
    " - presenting a statistical analysis\n",
    " - using a predictive model in some way\n",
    " - a clear hypothesis or question that you're trying to answer with your analysis\n",
    " "
   ]
  },
  {
   "cell_type": "markdown",
   "metadata": {},
   "source": [
    "## Descriptive Statistics\n",
    "\n",
    "One of the first things we can do with a new data set is to explore it and see what the main characteristics are. To do this we can look at e.g.:\n",
    "\n",
    "- size and shape of the data\n",
    "- range of values in columns\n",
    "- are there missing values\n",
    "- how are values distributed: mean, median, variance\n",
    "\n",
    "What does it mean if we find that the variance of our sample is very high on one variable? \n",
    "\n",
    "Does the mean and variance tell the whole story? "
   ]
  },
  {
   "cell_type": "code",
   "execution_count": null,
   "metadata": {
    "collapsed": true
   },
   "outputs": [],
   "source": [
    "import pandas as pd\n",
    "%matplotlib inline"
   ]
  },
  {
   "cell_type": "code",
   "execution_count": null,
   "metadata": {
    "collapsed": true
   },
   "outputs": [],
   "source": [
    "ds1 = pd.read_csv(\"files/ds1.csv\")\n",
    "ds2 = pd.read_csv(\"files/ds2.csv\")\n",
    "ds3 = pd.read_csv(\"files/ds3.csv\")"
   ]
  },
  {
   "cell_type": "code",
   "execution_count": 119,
   "metadata": {
    "scrolled": true
   },
   "outputs": [
    {
     "data": {
      "text/plain": [
       "<matplotlib.axes._subplots.AxesSubplot at 0x7f143d3c63c8>"
      ]
     },
     "execution_count": 119,
     "metadata": {},
     "output_type": "execute_result"
    },
    {
     "data": {
      "image/png": "[encoded data removed]",
      "text/plain": [
       "<matplotlib.figure.Figure at 0x7f143d833860>"
      ]
     },
     "metadata": {},
     "output_type": "display_data"
    }
   ],
   "source": [
    "# look at summary stats for ds[123]\n",
    "ds1.plot('x', 'y', kind='scatter')"
   ]
  },
  {
   "cell_type": "code",
   "execution_count": 120,
   "metadata": {},
   "outputs": [
    {
     "data": {
      "text/plain": [
       "<matplotlib.axes._subplots.AxesSubplot at 0x7f143d2d5d68>"
      ]
     },
     "execution_count": 120,
     "metadata": {},
     "output_type": "execute_result"
    },
    {
     "data": {
      "image/png": "[encoded data removed]",
      "text/plain": [
       "<matplotlib.figure.Figure at 0x7f143d399400>"
      ]
     },
     "metadata": {},
     "output_type": "display_data"
    }
   ],
   "source": [
    "ds2.plot('x', 'y', kind='scatter')"
   ]
  },
  {
   "cell_type": "markdown",
   "metadata": {},
   "source": [
    "That data comes from [the Datasaurus Dozen](https://www.autodeskresearch.com/publications/samestats) and is designed to illustrate the point that your initial exploration of the data should include some visulalisation since summary statistics don't give the full story."
   ]
  },
  {
   "cell_type": "markdown",
   "metadata": {},
   "source": [
    "## A Sample Dataset - Grades\n",
    "\n",
    "Let's look at a sample dataset from a University course containing the students ATAR and their final grade and mark for the course.  \n",
    "\n",
    "Firstly, let's consider what kind of business questions we might be able to answer with this kind of data.  Imagine you were working in the University Analyitics group and had access to all of the data about student results and past performance, and all of the degree structure information.  What kind of questions might you be able to answer with this data that might help the University in some way? \n",
    "\n",
    "Now let's explore the data a little."
   ]
  },
  {
   "cell_type": "code",
   "execution_count": 124,
   "metadata": {},
   "outputs": [
    {
     "data": {
      "text/html": [
       "<div>\n",
       "<table border=\"1\" class=\"dataframe\">\n",
       "  <thead>\n",
       "    <tr style=\"text-align: right;\">\n",
       "      <th></th>\n",
       "      <th>ATAR</th>\n",
       "      <th>Grade</th>\n",
       "      <th>Mark</th>\n",
       "    </tr>\n",
       "  </thead>\n",
       "  <tbody>\n",
       "    <tr>\n",
       "      <th>0</th>\n",
       "      <td>52.40</td>\n",
       "      <td>F</td>\n",
       "      <td>33.0</td>\n",
       "    </tr>\n",
       "    <tr>\n",
       "      <th>1</th>\n",
       "      <td>67.45</td>\n",
       "      <td>D</td>\n",
       "      <td>82.0</td>\n",
       "    </tr>\n",
       "    <tr>\n",
       "      <th>2</th>\n",
       "      <td>63.45</td>\n",
       "      <td>W</td>\n",
       "      <td>0.0</td>\n",
       "    </tr>\n",
       "    <tr>\n",
       "      <th>3</th>\n",
       "      <td>64.35</td>\n",
       "      <td>W</td>\n",
       "      <td>0.0</td>\n",
       "    </tr>\n",
       "    <tr>\n",
       "      <th>4</th>\n",
       "      <td>66.30</td>\n",
       "      <td>W</td>\n",
       "      <td>0.0</td>\n",
       "    </tr>\n",
       "  </tbody>\n",
       "</table>\n",
       "</div>"
      ],
      "text/plain": [
       "    ATAR Grade  Mark\n",
       "0  52.40     F  33.0\n",
       "1  67.45     D  82.0\n",
       "2  63.45     W   0.0\n",
       "3  64.35     W   0.0\n",
       "4  66.30     W   0.0"
      ]
     },
     "execution_count": 124,
     "metadata": {},
     "output_type": "execute_result"
    }
   ],
   "source": [
    "# read some data for grades vs ATAR \n",
    "grades = pd.read_csv(\"files/grades.csv\")\n",
    "grades.head()"
   ]
  },
  {
   "cell_type": "code",
   "execution_count": 125,
   "metadata": {},
   "outputs": [
    {
     "data": {
      "text/plain": [
       "<matplotlib.axes._subplots.AxesSubplot at 0x7f143d236438>"
      ]
     },
     "execution_count": 125,
     "metadata": {},
     "output_type": "execute_result"
    },
    {
     "data": {
      "image/png": "[encoded data removed]",
      "text/plain": [
       "<matplotlib.figure.Figure at 0x7f143d1d0320>"
      ]
     },
     "metadata": {},
     "output_type": "display_data"
    }
   ],
   "source": [
    "# let's explore\n",
    "grades.plot('ATAR', 'Mark', kind='scatter')"
   ]
  },
  {
   "cell_type": "code",
   "execution_count": 103,
   "metadata": {},
   "outputs": [
    {
     "data": {
      "text/plain": [
       "<matplotlib.axes._subplots.AxesSubplot at 0x7f143d6eb470>"
      ]
     },
     "execution_count": 103,
     "metadata": {},
     "output_type": "execute_result"
    },
    {
     "data": {
      "image/png": "[encoded data removed]",
      "text/plain": [
       "<matplotlib.figure.Figure at 0x7f143d65b8d0>"
      ]
     },
     "metadata": {},
     "output_type": "display_data"
    }
   ],
   "source": [
    "# let's remove any with no ATAR and zero marks\n",
    "grades = grades.drop(grades.index[(grades.Mark == 0) & (grades.ATAR == 0)])\n",
    "\n",
    "# now look at those students with no ATAR\n",
    "noatar = grades[(grades.ATAR == 0)]\n",
    "# plot their distribution\n",
    "noatar.Mark.hist(bins=25)"
   ]
  },
  {
   "cell_type": "code",
   "execution_count": 108,
   "metadata": {},
   "outputs": [
    {
     "data": {
      "text/html": [
       "<div>\n",
       "<table border=\"1\" class=\"dataframe\">\n",
       "  <thead>\n",
       "    <tr style=\"text-align: right;\">\n",
       "      <th></th>\n",
       "      <th>ATAR</th>\n",
       "      <th>Mark</th>\n",
       "    </tr>\n",
       "    <tr>\n",
       "      <th>Grade</th>\n",
       "      <th></th>\n",
       "      <th></th>\n",
       "    </tr>\n",
       "  </thead>\n",
       "  <tbody>\n",
       "    <tr>\n",
       "      <th>CR</th>\n",
       "      <td>16</td>\n",
       "      <td>16</td>\n",
       "    </tr>\n",
       "    <tr>\n",
       "      <th>D</th>\n",
       "      <td>14</td>\n",
       "      <td>14</td>\n",
       "    </tr>\n",
       "    <tr>\n",
       "      <th>F</th>\n",
       "      <td>18</td>\n",
       "      <td>18</td>\n",
       "    </tr>\n",
       "    <tr>\n",
       "      <th>HD</th>\n",
       "      <td>29</td>\n",
       "      <td>29</td>\n",
       "    </tr>\n",
       "    <tr>\n",
       "      <th>IS</th>\n",
       "      <td>3</td>\n",
       "      <td>0</td>\n",
       "    </tr>\n",
       "    <tr>\n",
       "      <th>P</th>\n",
       "      <td>11</td>\n",
       "      <td>11</td>\n",
       "    </tr>\n",
       "  </tbody>\n",
       "</table>\n",
       "</div>"
      ],
      "text/plain": [
       "       ATAR  Mark\n",
       "Grade            \n",
       "CR       16    16\n",
       "D        14    14\n",
       "F        18    18\n",
       "HD       29    29\n",
       "IS        3     0\n",
       "P        11    11"
      ]
     },
     "execution_count": 108,
     "metadata": {},
     "output_type": "execute_result"
    }
   ],
   "source": [
    "# looks like many of them did very well, we could check their grades\n",
    "noatar.groupby('Grade').count()"
   ]
  },
  {
   "cell_type": "code",
   "execution_count": 114,
   "metadata": {},
   "outputs": [
    {
     "data": {
      "text/plain": [
       "(62.161146496815292, 60.225213675213674)"
      ]
     },
     "execution_count": 114,
     "metadata": {},
     "output_type": "execute_result"
    }
   ],
   "source": [
    "# split into pass and fail students\n",
    "pass_students = grades[(grades.Mark >= 50)]\n",
    "fail_students = grades[(grades.Mark < 50)]\n",
    "# and check the mean ATAR\n",
    "pass_students.ATAR.mean(), fail_students.ATAR.mean()"
   ]
  },
  {
   "cell_type": "code",
   "execution_count": 129,
   "metadata": {},
   "outputs": [
    {
     "data": {
      "text/plain": [
       "(27.661438478191048, 21.533421098447732)"
      ]
     },
     "execution_count": 129,
     "metadata": {},
     "output_type": "execute_result"
    }
   ],
   "source": [
    "# they aren't too different, what about the standard deviation\n",
    "pass_students.ATAR.std(), fail_students.ATAR.std()\n",
    "# again very similar"
   ]
  },
  {
   "cell_type": "code",
   "execution_count": 139,
   "metadata": {},
   "outputs": [
    {
     "data": {
      "text/plain": [
       "<matplotlib.axes._subplots.AxesSubplot at 0x7f143ca1af28>"
      ]
     },
     "execution_count": 139,
     "metadata": {},
     "output_type": "execute_result"
    },
    {
     "data": {
      "image/png": "[encoded data removed]",
      "text/plain": [
       "<matplotlib.figure.Figure at 0x7f143ca2ddd8>"
      ]
     },
     "metadata": {},
     "output_type": "display_data"
    }
   ],
   "source": [
    "# now let's remove all zeros and see the distribution\n",
    "nonzero = grades.drop(grades.index[(grades.Mark == 0) | (grades.ATAR == 0)])\n",
    "nonzero.plot(x='ATAR', y='Mark', color='red', kind='scatter')"
   ]
  },
  {
   "cell_type": "markdown",
   "metadata": {},
   "source": [
    "## Privacy \n",
    "\n",
    "I just gave you some potentially private data about students, their ATAR and their grades.  It doesn't include\n",
    "any identifying information but if I told you which unit it was from which year that might allow you to make\n",
    "some inferences.   \n",
    "\n",
    "Say it was the year you did this unit and you knew that your friend got five more marks than you. This \n",
    "would potentially allow you to find their ATAR. I've now leaked a bit of personal information about \n",
    "someone else to you. (In my defense, in this data there are only 4 cases where \n",
    "only one student got a given mark, so the probability of revealing ATAR for an individual is low). \n",
    "\n",
    "This is a relatively benign example - knowing someone's ATAR is not really that useful although it might \n",
    "be a bit embarrasing in some cases.   However it could be a piece in a larger puzzle that is gathered from \n",
    "this and other datasets.  Each one might not reveal much or anything, but linked to another dataset \n",
    "with common information might reveal much more. \n",
    "\n",
    "The [Australian Privacy Principles](https://www.oaic.gov.au/privacy-law/privacy-act/australian-privacy-principles) \n",
    "outline the responsibilities of organisations who hold private information on people and how it can be \n",
    "collected, used and released.   Note [this comment](https://theconversation.com/australias-privacy-laws-gutted-in-court-ruling-on-what-is-personal-information-71486) \n",
    "on a Federal Court case that ruled that only data that directly identifies an individual is 'private data' \n",
    "under the act in contrast with the regimes in other countries.\n",
    "\n",
    "\n"
   ]
  },
  {
   "cell_type": "markdown",
   "metadata": {},
   "source": [
    "## Outliers\n",
    "\n",
    "Many datasets will contain errors of some kind that will show in the data as outliers.  These will alter\n",
    "the distribution of the data and get in the way of being able to accurately model the data. So, it is \n",
    "in our interests to remove these outliers. \n",
    "\n",
    "### Identifying Outliers\n",
    "\n",
    "To identify outliers we need to know what normal is - so the descriptive statistics described earlier \n",
    "play a part in determining what is unusual.  \n",
    "\n",
    "A common assumption (or model) is a **normal distribution** for the data. Normally distributed data will be \n",
    "evenly distributed around the mean with fewer points the further away from the mean you go.  If this is\n",
    "the case we could define an outlier as a point that falls some number of standard deviations away from\n",
    "the mean.  There are some [tests for outliers](http://www.itl.nist.gov/div898/handbook/eda/section3/eda35h.htm)\n",
    "based on this idea. \n",
    "\n",
    "Another way to look for outliers is based on our understanding of the data. In the Adult data used in\n",
    "the text (and the practical) they exclude high income earners below 22 and above 72 because such people\n",
    "are not very likely to be able to earn that much.  **How valid is this?**\n",
    "\n",
    "### Why are they there?\n",
    "\n",
    "While outliers might get in the way of good modelling, they are there for a reason. That could be just a human\n",
    "or instrument error when collecting the data or it could be some higher order effect that is \n",
    "informative in itself. \n",
    "\n",
    "Outliers in the grades data:\n",
    "- People without an ATAR\n",
    "- Poeple who withdrew from the unit\n",
    "\n",
    "### Filtering data\n",
    "\n",
    "Look at some examples of filtering data to identify and remove outliers.\n",
    "\n",
    "Boolean series created from comparisons of a variable in a data frame."
   ]
  },
  {
   "cell_type": "code",
   "execution_count": 140,
   "metadata": {},
   "outputs": [
    {
     "data": {
      "text/html": [
       "<div>\n",
       "<table border=\"1\" class=\"dataframe\">\n",
       "  <thead>\n",
       "    <tr style=\"text-align: right;\">\n",
       "      <th></th>\n",
       "      <th>ATAR</th>\n",
       "      <th>Mark</th>\n",
       "    </tr>\n",
       "  </thead>\n",
       "  <tbody>\n",
       "    <tr>\n",
       "      <th>count</th>\n",
       "      <td>527.000000</td>\n",
       "      <td>510.000000</td>\n",
       "    </tr>\n",
       "    <tr>\n",
       "      <th>mean</th>\n",
       "      <td>71.265465</td>\n",
       "      <td>69.707843</td>\n",
       "    </tr>\n",
       "    <tr>\n",
       "      <th>std</th>\n",
       "      <td>11.087434</td>\n",
       "      <td>18.961416</td>\n",
       "    </tr>\n",
       "    <tr>\n",
       "      <th>min</th>\n",
       "      <td>20.200000</td>\n",
       "      <td>23.000000</td>\n",
       "    </tr>\n",
       "    <tr>\n",
       "      <th>25%</th>\n",
       "      <td>65.600000</td>\n",
       "      <td>57.250000</td>\n",
       "    </tr>\n",
       "    <tr>\n",
       "      <th>50%</th>\n",
       "      <td>72.200000</td>\n",
       "      <td>74.000000</td>\n",
       "    </tr>\n",
       "    <tr>\n",
       "      <th>75%</th>\n",
       "      <td>78.425000</td>\n",
       "      <td>85.000000</td>\n",
       "    </tr>\n",
       "    <tr>\n",
       "      <th>max</th>\n",
       "      <td>98.650000</td>\n",
       "      <td>98.000000</td>\n",
       "    </tr>\n",
       "  </tbody>\n",
       "</table>\n",
       "</div>"
      ],
      "text/plain": [
       "             ATAR        Mark\n",
       "count  527.000000  510.000000\n",
       "mean    71.265465   69.707843\n",
       "std     11.087434   18.961416\n",
       "min     20.200000   23.000000\n",
       "25%     65.600000   57.250000\n",
       "50%     72.200000   74.000000\n",
       "75%     78.425000   85.000000\n",
       "max     98.650000   98.000000"
      ]
     },
     "execution_count": 140,
     "metadata": {},
     "output_type": "execute_result"
    }
   ],
   "source": [
    "# Find marks that are zero and remove them \n",
    "zeros = (grades.Mark == 0) \n",
    "grades_no_zeros = grades.drop(grades.index[zeros])\n",
    "grades_no_zeros.describe()\n",
    "## see more worked examples above"
   ]
  }
 ],
 "metadata": {
  "kernelspec": {
   "display_name": "Python 3",
   "language": "python",
   "name": "python3"
  },
  "language_info": {
   "codemirror_mode": {
    "name": "ipython",
    "version": 3
   },
   "file_extension": ".py",
   "mimetype": "text/x-python",
   "name": "python",
   "nbconvert_exporter": "python",
   "pygments_lexer": "ipython3",
   "version": "3.6.5"
  }
 },
 "nbformat": 4,
 "nbformat_minor": 2
}
