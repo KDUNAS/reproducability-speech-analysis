{
 "cells": [
  {
   "cell_type": "markdown",
   "metadata": {
    "slideshow": {
     "slide_type": "slide"
    }
   },
   "source": [
    "# Bayesian Classifiers\n",
    "\n",
    "The classification problem:\n",
    "\n",
    "* Given two or more categories of observation \n",
    "* Extract numerical features for each observation\n",
    "* Train some kind of model of each category\n",
    "* Use the model to predict the category of new observations\n",
    "* This is the basis of **supervised machine learning**"
   ]
  },
  {
   "cell_type": "markdown",
   "metadata": {
    "slideshow": {
     "slide_type": "slide"
    }
   },
   "source": [
    "# Outline\n",
    "\n",
    "* The gaussian probability distribution in one dimension\n",
    "* Multi-dimensional gaussian\n",
    "* Bayes decision rule\n",
    "* Using Bayes for classification\n",
    "* Running classification experiments\n",
    "* Training, testing, validation\n",
    "* Evaluating classification experiments\n"
   ]
  },
  {
   "cell_type": "code",
   "execution_count": null,
   "metadata": {},
   "outputs": [],
   "source": []
  }
 ],
 "metadata": {
  "celltoolbar": "Slideshow",
  "kernelspec": {
   "display_name": "Python 3",
   "language": "python",
   "name": "python3"
  },
  "language_info": {
   "codemirror_mode": {
    "name": "ipython",
    "version": 3
   },
   "file_extension": ".py",
   "mimetype": "text/x-python",
   "name": "python",
   "nbconvert_exporter": "python",
   "pygments_lexer": "ipython3",
   "version": "3.6.5"
  }
 },
 "nbformat": 4,
 "nbformat_minor": 2
}
