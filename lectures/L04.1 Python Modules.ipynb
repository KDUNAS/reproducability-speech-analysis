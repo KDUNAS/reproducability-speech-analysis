{
 "cells": [
  {
   "cell_type": "code",
   "execution_count": 18,
   "metadata": {
    "collapsed": true,
    "slideshow": {
     "slide_type": "skip"
    }
   },
   "outputs": [],
   "source": [
    "import pandas as pd\n",
    "import numpy as np\n",
    "%matplotlib inline"
   ]
  },
  {
   "cell_type": "markdown",
   "metadata": {},
   "source": [
    "# Using Python Modules\n",
    "\n",
    "Last week I had the following code in my notebook for the lecture to read in an XML file to a data frame.  Having this code inline like this is good for my lectures since I want to show you the code, but in general it looks messy. \n",
    "\n",
    "It's also a potentially re-usable bit of code that I might want to use in other notebooks or later on in this same notebook to read an XML file.  \n",
    "\n",
    "A better option is to use a separate Python file that we import into this notebook, and to write the code as a function in that file that we can use here.  \n",
    "\n",
    "Let's refactor this code to do this..."
   ]
  },
  {
   "cell_type": "code",
   "execution_count": null,
   "metadata": {
    "collapsed": true
   },
   "outputs": [],
   "source": [
    "# here is the original code block\n",
    "import xml.etree.ElementTree as ET\n",
    "\n",
    "tree = ET.parse('files/sample.xml')\n",
    "root = tree.getroot()\n",
    "data = []\n",
    "for row in root:\n",
    "    # create a dictionary for each row\n",
    "    datarow = {}\n",
    "    for child in row:\n",
    "        # dictionary key is the tag name, value is the text in the tag\n",
    "        datarow[child.tag] = child.text\n",
    "    data.append(datarow)\n",
    "\n",
    "# now make a dataframe from this list of dictionaries\n",
    "df = pd.DataFrame(data)\n",
    "# sort on date\n",
    "df = df.sort_values('Date')\n",
    "# create a series from the dates as datetimes\n",
    "dates = pd.to_datetime(df.Date)\n",
    "# make this the index of the dataframe\n",
    "df.index = dates\n",
    "# remove the Date column (axis=1 means we're dropping a column, not rows)\n",
    "df.drop('Date', axis=1, inplace=True)"
   ]
  },
  {
   "cell_type": "code",
   "execution_count": 4,
   "metadata": {},
   "outputs": [
    {
     "data": {
      "text/html": [
       "<div>\n",
       "<table border=\"1\" class=\"dataframe\">\n",
       "  <thead>\n",
       "    <tr style=\"text-align: right;\">\n",
       "      <th></th>\n",
       "      <th>Amount</th>\n",
       "      <th>City</th>\n",
       "      <th>Name</th>\n",
       "    </tr>\n",
       "    <tr>\n",
       "      <th>Date</th>\n",
       "      <th></th>\n",
       "      <th></th>\n",
       "      <th></th>\n",
       "    </tr>\n",
       "  </thead>\n",
       "  <tbody>\n",
       "    <tr>\n",
       "      <th>2016-08-24 08:35:12</th>\n",
       "      <td>97.98</td>\n",
       "      <td>Neumünster</td>\n",
       "      <td>Tanya</td>\n",
       "    </tr>\n",
       "    <tr>\n",
       "      <th>2016-08-27 03:56:02</th>\n",
       "      <td>99.04</td>\n",
       "      <td>Rovereto</td>\n",
       "      <td>Molly</td>\n",
       "    </tr>\n",
       "    <tr>\n",
       "      <th>2016-09-06 08:58:15</th>\n",
       "      <td>99.27</td>\n",
       "      <td>Rovereto</td>\n",
       "      <td>Aiko</td>\n",
       "    </tr>\n",
       "    <tr>\n",
       "      <th>2016-09-10 21:10:12</th>\n",
       "      <td>96.53</td>\n",
       "      <td>Westkerke</td>\n",
       "      <td>Dante</td>\n",
       "    </tr>\n",
       "    <tr>\n",
       "      <th>2016-09-12 22:32:09</th>\n",
       "      <td>107.23</td>\n",
       "      <td>Pointe-aux-Trembles</td>\n",
       "      <td>Sydney</td>\n",
       "    </tr>\n",
       "  </tbody>\n",
       "</table>\n",
       "</div>"
      ],
      "text/plain": [
       "                     Amount                 City    Name\n",
       "Date                                                    \n",
       "2016-08-24 08:35:12   97.98           Neumünster   Tanya\n",
       "2016-08-27 03:56:02   99.04             Rovereto   Molly\n",
       "2016-09-06 08:58:15   99.27             Rovereto    Aiko\n",
       "2016-09-10 21:10:12   96.53            Westkerke   Dante\n",
       "2016-09-12 22:32:09  107.23  Pointe-aux-Trembles  Sydney"
      ]
     },
     "execution_count": 4,
     "metadata": {},
     "output_type": "execute_result"
    }
   ],
   "source": [
    "# refactored by copying to a file utils.py and defining a function \n",
    "# readxml that we import here\n",
    "\n",
    "from utils import readxml\n",
    "\n",
    "df = readxml('files/sample.xml')\n",
    "# let's take a look\n",
    "df.head()"
   ]
  },
  {
   "cell_type": "markdown",
   "metadata": {},
   "source": [
    "Things to note:\n",
    "- when you import the module into your notebook that loads the code into the Python interpreter that is running your code\n",
    "- if you change the code in your module, then re-run your notebook, it won't re-import the module, you need to re-start the interpreter via the Kernel menu (*Kernel > Restart and Run All*)\n",
    "- you can either import specific functions from your module or import the whole module\n",
    "    - *import utils* # then call utils.do_something()\n",
    "    - *from utils import do_something* # then call do_something()"
   ]
  },
  {
   "cell_type": "markdown",
   "metadata": {},
   "source": [
    "## Correlation\n",
    "\n",
    "Last week we looked at the relationship between ATAR and grade for some student data."
   ]
  },
  {
   "cell_type": "code",
   "execution_count": 10,
   "metadata": {},
   "outputs": [
    {
     "data": {
      "text/plain": [
       "<matplotlib.axes._subplots.AxesSubplot at 0x7fd346f6cb70>"
      ]
     },
     "execution_count": 10,
     "metadata": {},
     "output_type": "execute_result"
    },
    {
     "data": {
      "image/png": "[encoded data removed]",
      "text/plain": [
       "<matplotlib.figure.Figure at 0x7fd346f7cb00>"
      ]
     },
     "metadata": {},
     "output_type": "display_data"
    }
   ],
   "source": [
    "grades = pd.read_csv(\"files/grades.csv\")\n",
    "# remove zeros\n",
    "grades = grades.drop(grades.index[(grades.Mark == 0) | (grades.ATAR == 0)])\n",
    "grades.plot('ATAR', 'Mark', kind='scatter')"
   ]
  },
  {
   "cell_type": "markdown",
   "metadata": {},
   "source": [
    "We can see from the plot that there isn't much of a relationship between these two variables. As ATAR increases, the range of values for Mark doesn't change very much.  \n",
    "\n",
    "To quantify this we can look at the **covariance** or **correlation** between the two variables.  \n",
    "\n",
    "**Covariance** - how the two variables vary together, larger values mean that the size of the mutual deviation from the mean is large. If two variables are totally unrelated, the covariance would be zero.\n",
    "\n",
    "But the fact that covariance can be any value makes it hard to interpret:"
   ]
  },
  {
   "cell_type": "code",
   "execution_count": 52,
   "metadata": {},
   "outputs": [
    {
     "data": {
      "text/html": [
       "<div>\n",
       "<table border=\"1\" class=\"dataframe\">\n",
       "  <thead>\n",
       "    <tr style=\"text-align: right;\">\n",
       "      <th></th>\n",
       "      <th>ATAR</th>\n",
       "      <th>Mark</th>\n",
       "    </tr>\n",
       "  </thead>\n",
       "  <tbody>\n",
       "    <tr>\n",
       "      <th>ATAR</th>\n",
       "      <td>122.931200</td>\n",
       "      <td>78.932811</td>\n",
       "    </tr>\n",
       "    <tr>\n",
       "      <th>Mark</th>\n",
       "      <td>78.932811</td>\n",
       "      <td>359.535302</td>\n",
       "    </tr>\n",
       "  </tbody>\n",
       "</table>\n",
       "</div>"
      ],
      "text/plain": [
       "            ATAR        Mark\n",
       "ATAR  122.931200   78.932811\n",
       "Mark   78.932811  359.535302"
      ]
     },
     "execution_count": 52,
     "metadata": {},
     "output_type": "execute_result"
    }
   ],
   "source": [
    "grades.cov()"
   ]
  },
  {
   "cell_type": "markdown",
   "metadata": {},
   "source": [
    "**Correlation** is a normalised version of covariance, standardised to between -1 and 1.  \n",
    "\n",
    "Much easier to interpret - a value of 1 (or -1) means a perfect relationship between the two variables.  The close to 1 the better the relationship.  \n",
    "\n",
    "The correlation of Mark and ATAR is 0.37 which is very low, confirming that there is no real relationship between these variables."
   ]
  },
  {
   "cell_type": "code",
   "execution_count": 54,
   "metadata": {},
   "outputs": [
    {
     "data": {
      "text/html": [
       "<div>\n",
       "<table border=\"1\" class=\"dataframe\">\n",
       "  <thead>\n",
       "    <tr style=\"text-align: right;\">\n",
       "      <th></th>\n",
       "      <th>ATAR</th>\n",
       "      <th>Mark</th>\n",
       "    </tr>\n",
       "  </thead>\n",
       "  <tbody>\n",
       "    <tr>\n",
       "      <th>ATAR</th>\n",
       "      <td>1.000000</td>\n",
       "      <td>0.373856</td>\n",
       "    </tr>\n",
       "    <tr>\n",
       "      <th>Mark</th>\n",
       "      <td>0.373856</td>\n",
       "      <td>1.000000</td>\n",
       "    </tr>\n",
       "  </tbody>\n",
       "</table>\n",
       "</div>"
      ],
      "text/plain": [
       "          ATAR      Mark\n",
       "ATAR  1.000000  0.373856\n",
       "Mark  0.373856  1.000000"
      ]
     },
     "execution_count": 54,
     "metadata": {},
     "output_type": "execute_result"
    }
   ],
   "source": [
    "grades.corr()"
   ]
  },
  {
   "cell_type": "markdown",
   "metadata": {},
   "source": [
    "Let's look at another dataset that shows a better correlation.  This is the [auto-mpg dataset](https://archive.ics.uci.edu/ml/datasets/Auto+MPG) from the UCI archive."
   ]
  },
  {
   "cell_type": "code",
   "execution_count": 6,
   "metadata": {},
   "outputs": [
    {
     "data": {
      "text/html": [
       "<div>\n",
       "<table border=\"1\" class=\"dataframe\">\n",
       "  <thead>\n",
       "    <tr style=\"text-align: right;\">\n",
       "      <th></th>\n",
       "      <th>mpg</th>\n",
       "      <th>cylinders</th>\n",
       "      <th>displacement</th>\n",
       "      <th>horsepower</th>\n",
       "      <th>weight</th>\n",
       "      <th>acceleration</th>\n",
       "      <th>year</th>\n",
       "      <th>origin</th>\n",
       "      <th>name</th>\n",
       "    </tr>\n",
       "  </thead>\n",
       "  <tbody>\n",
       "    <tr>\n",
       "      <th>0</th>\n",
       "      <td>18.0</td>\n",
       "      <td>8</td>\n",
       "      <td>307.0</td>\n",
       "      <td>130.0</td>\n",
       "      <td>3504.0</td>\n",
       "      <td>12.0</td>\n",
       "      <td>70</td>\n",
       "      <td>1</td>\n",
       "      <td>chevrolet chevelle malibu</td>\n",
       "    </tr>\n",
       "    <tr>\n",
       "      <th>1</th>\n",
       "      <td>15.0</td>\n",
       "      <td>8</td>\n",
       "      <td>350.0</td>\n",
       "      <td>165.0</td>\n",
       "      <td>3693.0</td>\n",
       "      <td>11.5</td>\n",
       "      <td>70</td>\n",
       "      <td>1</td>\n",
       "      <td>buick skylark 320</td>\n",
       "    </tr>\n",
       "    <tr>\n",
       "      <th>2</th>\n",
       "      <td>18.0</td>\n",
       "      <td>8</td>\n",
       "      <td>318.0</td>\n",
       "      <td>150.0</td>\n",
       "      <td>3436.0</td>\n",
       "      <td>11.0</td>\n",
       "      <td>70</td>\n",
       "      <td>1</td>\n",
       "      <td>plymouth satellite</td>\n",
       "    </tr>\n",
       "    <tr>\n",
       "      <th>3</th>\n",
       "      <td>16.0</td>\n",
       "      <td>8</td>\n",
       "      <td>304.0</td>\n",
       "      <td>150.0</td>\n",
       "      <td>3433.0</td>\n",
       "      <td>12.0</td>\n",
       "      <td>70</td>\n",
       "      <td>1</td>\n",
       "      <td>amc rebel sst</td>\n",
       "    </tr>\n",
       "    <tr>\n",
       "      <th>4</th>\n",
       "      <td>17.0</td>\n",
       "      <td>8</td>\n",
       "      <td>302.0</td>\n",
       "      <td>140.0</td>\n",
       "      <td>3449.0</td>\n",
       "      <td>10.5</td>\n",
       "      <td>70</td>\n",
       "      <td>1</td>\n",
       "      <td>ford torino</td>\n",
       "    </tr>\n",
       "  </tbody>\n",
       "</table>\n",
       "</div>"
      ],
      "text/plain": [
       "    mpg  cylinders  displacement horsepower  weight  acceleration  year  \\\n",
       "0  18.0          8         307.0      130.0  3504.0          12.0    70   \n",
       "1  15.0          8         350.0      165.0  3693.0          11.5    70   \n",
       "2  18.0          8         318.0      150.0  3436.0          11.0    70   \n",
       "3  16.0          8         304.0      150.0  3433.0          12.0    70   \n",
       "4  17.0          8         302.0      140.0  3449.0          10.5    70   \n",
       "\n",
       "   origin                       name  \n",
       "0       1  chevrolet chevelle malibu  \n",
       "1       1          buick skylark 320  \n",
       "2       1         plymouth satellite  \n",
       "3       1              amc rebel sst  \n",
       "4       1                ford torino  "
      ]
     },
     "execution_count": 6,
     "metadata": {},
     "output_type": "execute_result"
    }
   ],
   "source": [
    "names = ['mpg', 'cylinders', 'displacement', 'horsepower', 'weight', 'acceleration', 'year', 'origin', 'name']\n",
    "autompg = pd.read_csv('files/auto-mpg.data', delim_whitespace=True, names=names)\n",
    "autompg.head()"
   ]
  },
  {
   "cell_type": "code",
   "execution_count": 7,
   "metadata": {},
   "outputs": [
    {
     "data": {
      "text/plain": [
       "<matplotlib.axes._subplots.AxesSubplot at 0x7f7e88b4e048>"
      ]
     },
     "execution_count": 7,
     "metadata": {},
     "output_type": "execute_result"
    },
    {
     "data": {
      "image/png": "[encoded data removed]",
      "text/plain": [
       "<matplotlib.figure.Figure at 0x7f7e888fb710>"
      ]
     },
     "metadata": {},
     "output_type": "display_data"
    }
   ],
   "source": [
    "autompg.plot('mpg', 'weight', kind='scatter')"
   ]
  },
  {
   "cell_type": "markdown",
   "metadata": {},
   "source": [
    "We can see from the plot an more obvious negative relationship between *mpg* and *weight* - heavier cars use more fuel. \n",
    "\n",
    "The correlation is -0.83 which is close to -1 and shows a high negative correlation.  "
   ]
  },
  {
   "cell_type": "code",
   "execution_count": 9,
   "metadata": {},
   "outputs": [
    {
     "data": {
      "text/html": [
       "<div>\n",
       "<table border=\"1\" class=\"dataframe\">\n",
       "  <thead>\n",
       "    <tr style=\"text-align: right;\">\n",
       "      <th></th>\n",
       "      <th>mpg</th>\n",
       "      <th>cylinders</th>\n",
       "      <th>displacement</th>\n",
       "      <th>weight</th>\n",
       "      <th>acceleration</th>\n",
       "      <th>year</th>\n",
       "      <th>origin</th>\n",
       "    </tr>\n",
       "  </thead>\n",
       "  <tbody>\n",
       "    <tr>\n",
       "      <th>mpg</th>\n",
       "      <td>1.000000</td>\n",
       "      <td>-0.775396</td>\n",
       "      <td>-0.804203</td>\n",
       "      <td>-0.831741</td>\n",
       "      <td>0.420289</td>\n",
       "      <td>0.579267</td>\n",
       "      <td>0.563450</td>\n",
       "    </tr>\n",
       "    <tr>\n",
       "      <th>cylinders</th>\n",
       "      <td>-0.775396</td>\n",
       "      <td>1.000000</td>\n",
       "      <td>0.950721</td>\n",
       "      <td>0.896017</td>\n",
       "      <td>-0.505419</td>\n",
       "      <td>-0.348746</td>\n",
       "      <td>-0.562543</td>\n",
       "    </tr>\n",
       "    <tr>\n",
       "      <th>displacement</th>\n",
       "      <td>-0.804203</td>\n",
       "      <td>0.950721</td>\n",
       "      <td>1.000000</td>\n",
       "      <td>0.932824</td>\n",
       "      <td>-0.543684</td>\n",
       "      <td>-0.370164</td>\n",
       "      <td>-0.609409</td>\n",
       "    </tr>\n",
       "    <tr>\n",
       "      <th>weight</th>\n",
       "      <td>-0.831741</td>\n",
       "      <td>0.896017</td>\n",
       "      <td>0.932824</td>\n",
       "      <td>1.000000</td>\n",
       "      <td>-0.417457</td>\n",
       "      <td>-0.306564</td>\n",
       "      <td>-0.581024</td>\n",
       "    </tr>\n",
       "    <tr>\n",
       "      <th>acceleration</th>\n",
       "      <td>0.420289</td>\n",
       "      <td>-0.505419</td>\n",
       "      <td>-0.543684</td>\n",
       "      <td>-0.417457</td>\n",
       "      <td>1.000000</td>\n",
       "      <td>0.288137</td>\n",
       "      <td>0.205873</td>\n",
       "    </tr>\n",
       "    <tr>\n",
       "      <th>year</th>\n",
       "      <td>0.579267</td>\n",
       "      <td>-0.348746</td>\n",
       "      <td>-0.370164</td>\n",
       "      <td>-0.306564</td>\n",
       "      <td>0.288137</td>\n",
       "      <td>1.000000</td>\n",
       "      <td>0.180662</td>\n",
       "    </tr>\n",
       "    <tr>\n",
       "      <th>origin</th>\n",
       "      <td>0.563450</td>\n",
       "      <td>-0.562543</td>\n",
       "      <td>-0.609409</td>\n",
       "      <td>-0.581024</td>\n",
       "      <td>0.205873</td>\n",
       "      <td>0.180662</td>\n",
       "      <td>1.000000</td>\n",
       "    </tr>\n",
       "  </tbody>\n",
       "</table>\n",
       "</div>"
      ],
      "text/plain": [
       "                   mpg  cylinders  displacement    weight  acceleration  \\\n",
       "mpg           1.000000  -0.775396     -0.804203 -0.831741      0.420289   \n",
       "cylinders    -0.775396   1.000000      0.950721  0.896017     -0.505419   \n",
       "displacement -0.804203   0.950721      1.000000  0.932824     -0.543684   \n",
       "weight       -0.831741   0.896017      0.932824  1.000000     -0.417457   \n",
       "acceleration  0.420289  -0.505419     -0.543684 -0.417457      1.000000   \n",
       "year          0.579267  -0.348746     -0.370164 -0.306564      0.288137   \n",
       "origin        0.563450  -0.562543     -0.609409 -0.581024      0.205873   \n",
       "\n",
       "                  year    origin  \n",
       "mpg           0.579267  0.563450  \n",
       "cylinders    -0.348746 -0.562543  \n",
       "displacement -0.370164 -0.609409  \n",
       "weight       -0.306564 -0.581024  \n",
       "acceleration  0.288137  0.205873  \n",
       "year          1.000000  0.180662  \n",
       "origin        0.180662  1.000000  "
      ]
     },
     "execution_count": 9,
     "metadata": {},
     "output_type": "execute_result"
    }
   ],
   "source": [
    "autompg.corr()"
   ]
  },
  {
   "cell_type": "markdown",
   "metadata": {},
   "source": [
    "## Hypothesis Testing\n",
    "\n",
    "(Textbook Section 4.4)\n",
    "\n",
    "In an experiment we might observe a difference in the outcome for the control and treatment groups - high ATAR students might get higher grades on average than low ATAR students for example.  This difference could be due to a real difference between these groups, or it could be just happening by chance.  We may have accidentally chosen some really good high ATAR students and some really poor low ATAR students.  How can we be sure of our conclusion?\n",
    "\n",
    "Hypothesis testing is a method of measuring the liklihood that an observed difference occured by chance.\n",
    "\n",
    "It can be used in cases where we have two samples from a population that we believe are different - because we gave them different medicines or because they differ by some factor we think is causally related to the outcome (older, smarter, richer). \n",
    "\n",
    "Define a **null hypothesis** that the populations are really the same.  Aim to **reject the null hypothesis** by showing that this could only happen with a very low probability.\n",
    "\n",
    "One measure used is the *p-value* which is the probability that the observed difference could occur at random. I recommend you read the textbook section (4.4) which provides a nice explanation of this. The basic idea they describe is:\n",
    "\n",
    "- from the overall population (the two groups pooled together), draw samples of size N\n",
    "- compute the difference between the mean of this sample and the overall mean\n",
    "- count how many times the difference is larger than the one we observe overall between the two groups\n",
    "\n",
    "If we can find lots of cases where the sample we draw has a larger difference from the mean, then the difference we observe is likely to be just a random effect.   If it hardly ever happens, then the difference we observe might be a significant one. \n",
    "\n",
    "It is common to set a threshold of 5% for significance.  If the p value is less than 0.05 we say that the observed difference is unlikely to occur at random and so is likely to be due to a real effect.  We **reject the null hypothesis** that these distributions are the same.\n",
    "\n"
   ]
  }
 ],
 "metadata": {
  "celltoolbar": "Slideshow",
  "kernelspec": {
   "display_name": "Python 3",
   "language": "python",
   "name": "python3"
  },
  "language_info": {
   "codemirror_mode": {
    "name": "ipython",
    "version": 3
   },
   "file_extension": ".py",
   "mimetype": "text/x-python",
   "name": "python",
   "nbconvert_exporter": "python",
   "pygments_lexer": "ipython3",
   "version": "3.6.3"
  }
 },
 "nbformat": 4,
 "nbformat_minor": 2
}
